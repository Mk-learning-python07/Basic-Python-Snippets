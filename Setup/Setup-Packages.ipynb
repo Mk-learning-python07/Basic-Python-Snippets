{
 "cells": [
  {
   "cell_type": "markdown",
   "id": "d7693f8b-35d8-40f9-87a3-2a21f7c55e57",
   "metadata": {},
   "source": [
    "<center> <h1> Setup of Packages\n",
    "<br> </h1> </center>\n",
    "Setting up of packages in Python and provide rationale on basic set of packages needed for doing data-analysis/ML in python.<br> \n",
    "<h3> Date Revised: July-1st 2024 </h3>\n",
    "<h3> Version: 1.0 </h3>\n",
    "<br>\n",
    "Version Log:<br>\n",
    "1.0 - Initial Commit to github<br>"
   ]
  },
  {
   "cell_type": "code",
   "execution_count": null,
   "id": "30f6c59f-8e8f-475a-b4f8-e393f9f85c70",
   "metadata": {},
   "outputs": [],
   "source": [
    "pip install pandas numpy scipy scikit-learn seaborn matplotlib tensorflow nbconvert jupyter"
   ]
  },
  {
   "cell_type": "markdown",
   "id": "ebcfcf2c-7cf1-4555-a9f7-b80451cf0502",
   "metadata": {},
   "source": [
    "## Python Packages Setup\n",
    "### For data manipulation/read-write or data analysis\n",
    "<ul>\n",
    "    <li> <img src=\"https://pandas.pydata.org/docs/_static/pandas.svg\" alt=\"Pandas Logo\" width=\"100\"> <br>\n",
    "    Pandas is a Python library renowned for its fast and efficient DataFrame object, optimized for data manipulation and integrated indexing. It excels in reading and writing data across various formats such as CSV, Excel, SQL databases, and HDF5, facilitating seamless data interchange. The library offers intelligent data alignment and robust handling of missing data, enabling automatic label-based alignment in computations and simplifying the organization of disparate data sources. Pandas supports flexible reshaping, advanced slicing techniques, and powerful group-by operations, making it indispensable across diverse domains including Finance, Neuroscience, Economics, Statistics, Advertising, and Web Analytics. <br>\n",
    "    🗎 <a href=\"https://pandas.pydata.org\">https://pandas.pydata.org/</a> \n",
    "    </li><br>\n",
    "    <li> <img src=\"https://numpy.org/doc/stable/_static/numpylogo.svg\" alt=\"NumPy Logo\" width=\"100\"> <br>\n",
    "    NumPy is a fundamental Python library for numerical computing, providing support for large, multi-dimensional arrays and matrices. It includes a wide range of mathematical functions to operate on these arrays efficiently. NumPy's key features include broadcasting, which enables element-wise operations across arrays of different shapes, and universal functions (ufuncs) for fast computation. It serves as a foundation for many scientific computing tasks in fields such as machine learning, data analysis, and engineering simulations, offering performance optimizations with its underlying implementation in C.<br>\n",
    "    🗎 <a href = \"https://numpy.org/doc/stable/\"> https://numpy.org/doc/stable/ </a>  \n",
    "    </li> <br>\n",
    "    <li> <img src=\"https://scipy.org/images/logo.svg\" alt=\"SciPy Logo\" width=\"100\"> <br> \n",
    "    SciPy is a Python library built on NumPy, offering additional tools for scientific and technical computing. It includes modules for optimization, integration, interpolation, linear algebra, and statistical operations. SciPy extends NumPy's capabilities with advanced functions and algorithms tailored for scientific research and engineering applications. The library supports efficient manipulation and analysis of scientific data, making it indispensable in fields like physics, biology, chemistry, and signal processing.<br>\n",
    "    🗎 <a href = \"https://docs.scipy.org/doc/scipy/\"> https://docs.scipy.org/doc/scipy/</a> <br>    \n",
    "    </li> <br>\n",
    "\n",
    "\n",
    "### For plotting data\n",
    "<ul>\n",
    "    <li> <img src=\"https://matplotlib.org/_static/logo_dark.svg\" alt=\"Matplotlib Logo\" width=\"100\"> <br>\n",
    "Matplotlib is a comprehensive Python library for creating static, animated, and interactive visualizations. It offers a wide range of plotting capabilities for generating plots, charts, histograms, scatterplots, and more. Matplotlib integrates seamlessly with NumPy and other Python libraries, providing a flexible API for customizing visualizations with labels, legends, colors, and annotations. Widely used in scientific research, data analysis, and presentation of data insights, Matplotlib supports both 2D and 3D plotting, making it a versatile tool for visualizing data in various domains.<br>\n",
    "    🗎 <a href = \"https://matplotlib.org/stable/users/index\"> https://matplotlib.org/stable/users/index</a> <br>  \n",
    " </li><br>\n",
    "    <li> <img src=\"https://seaborn.pydata.org/_static/logo-wide-lightbg.svg\" alt=\"Seaborn Logo\" width=\"100\"> <br>\n",
    "    Seaborn is a Python visualization library built on top of Matplotlib, specializing in creating attractive and informative statistical graphics. It simplifies the creation of complex visualizations such as categorical plots, distribution plots, and regression plots with minimal code. Seaborn enhances Matplotlib's default aesthetics and provides built-in themes and color palettes for visually appealing plots. It excels in exploring relationships in datasets through advanced statistical techniques and is widely used in statistical modeling, data exploration, and machine learning tasks. <br>\n",
    "    🗎 <a href = \"https://seaborn.pydata.org/\"> https://seaborn.pydata.org/ </a> <br>  \n",
    "    </li><br>\n",
    "    <li> <img src=\"https://images.prismic.io/plotly-marketing-website-2/8f977c91-7b4e-4367-8228-26fbba2506e4_69e12d6a-fb65-4b6e-8423-9465a29c6028_plotly-logo-sm.png?auto=compress%2Cformat&fit=max&w=128\" alt=\"Plotly Logo\" width=\"100\"> <br>\n",
    "Plotly is a versatile Python library for creating interactive and publication-quality visualizations. It supports a wide range of chart types including line charts, bar charts, scatter plots, and heatmaps, with built-in interactivity like zooming, panning, and tooltips. Plotly can generate both static images and interactive web-based visualizations that can be embedded in web applications or shared online. It integrates seamlessly with Pandas DataFrames and NumPy arrays, making it suitable for analyzing and visualizing data in scientific research, business analytics, and data-driven applications. <br>\n",
    "  🗎 <a href = \"https://plotly.com/graphing-libraries/\"> https://plotly.com/graphing-libraries/ </a> <br>  \n",
    "    </li><br>\n",
    "</ul>\n",
    "\n",
    "### For performing ML\n",
    "<ul>\n",
    "    <li> <img src=\"https://scikit-learn.org/stable/_static/scikit-learn-logo-small.png\" alt=\"Scikit-learn Logo\" width=\"100\"> <br>\n",
    "Scikit-learn is a comprehensive Python library for machine learning, providing tools for data preprocessing, supervised and unsupervised learning algorithms, and model evaluation. It offers a consistent API for training and deploying machine learning models, with support for various tasks such as classification, regression, clustering, and dimensionality reduction. Scikit-learn integrates seamlessly with other Python libraries like NumPy, SciPy, and Pandas, enabling efficient data manipulation and statistical operations. Widely used in academia and industry, scikit-learn simplifies complex machine learning workflows and promotes reproducible research through accessible and well-documented implementations of algorithms.<br>\n",
    "  🗎 <a href = \"https://scikit-learn.org/stable/user_guide.html\"> https://scikit-learn.org/stable/user_guide.html </a> <br> \n",
    "    </li> <br>\n",
    "    <li> <img src=\"https://www.tensorflow.org/images/tf_logo_social.png\" alt=\"TensorFlow Logo\" width=\"100\"> <br> \n",
    "TensorFlow is an open-source machine learning framework developed by Google for building and training deep neural networks. It provides a comprehensive ecosystem with tools for data preprocessing, model building, training, deployment, and production-scale inference. TensorFlow supports both CPU and GPU computation, optimizing performance for large-scale data processing and complex model architectures. With its flexible architecture, TensorFlow enables researchers and developers to experiment with cutting-edge machine learning techniques and deploy scalable machine learning solutions across various domains including computer vision, natural language processing, and reinforcement learning.<br>\n",
    "  🗎 <a href = \"https://www.tensorflow.org/learn\"> https://www.tensorflow.org/learn </a> <br> \n",
    "    </li><br>\n",
    "    <li> <img src=\"https://keras.io/img/logo.png\" alt=\"Keras Logo\" width=\"100\"><br> \n",
    "    <br>\n",
    "    Keras is a high-level neural networks API written in Python, designed for fast experimentation with deep learning models. It provides a user-friendly interface to build, train, and deploy neural networks with minimal code. Keras supports both CPU and GPU acceleration, seamlessly integrating with TensorFlow, Theano, and Microsoft Cognitive Toolkit (CNTK) backends. With its modular architecture, Keras allows for easy prototyping and customization of neural network architectures, making it accessible for both beginners and experienced machine learning practitioners alike.<br>\n",
    "  🗎 <a href = \"https://keras.io/\"> https://keras.io/ </a> <br> \n",
    "    </li><br>\n",
    "</ul>\n",
    "\n",
    "This content was generated with prompt inputs from [ChatGPT](https://www.openai.com/chatgpt), an AI language model developed by OpenAI.\n"
   ]
  }
 ],
 "metadata": {
  "kernelspec": {
   "display_name": "Python 3 (ipykernel)",
   "language": "python",
   "name": "python3"
  },
  "language_info": {
   "codemirror_mode": {
    "name": "ipython",
    "version": 3
   },
   "file_extension": ".py",
   "mimetype": "text/x-python",
   "name": "python",
   "nbconvert_exporter": "python",
   "pygments_lexer": "ipython3",
   "version": "3.12.3"
  }
 },
 "nbformat": 4,
 "nbformat_minor": 5
}
