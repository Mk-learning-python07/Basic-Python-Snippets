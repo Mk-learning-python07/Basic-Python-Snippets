{
 "cells": [
  {
   "cell_type": "markdown",
   "id": "3cfb450f-e428-4221-ac63-9f319451877d",
   "metadata": {},
   "source": [
    "<center> <h1> Autoupdate Packages in local system<br> </h1> </center>\n",
    "This notebook has a function written with a driver code to autoupdate installed packages in your system by just running the two code snippets<br> \n",
    "<h3> Date Revised: July-1st 2024 </h3>\n",
    "<h3> Version: 1.0 </h3>\n",
    "<br>\n",
    "Version Log:<br>\n",
    "1.0 - Initial Commit to github<br>\n"
   ]
  },
  {
   "cell_type": "code",
   "execution_count": null,
   "id": "f5baaddd",
   "metadata": {},
   "outputs": [],
   "source": [
    "import subprocess\n",
    "import re\n",
    "\n",
    "def get_outdated_packages():\n",
    "### This function returns the names of packages that needs to be updated amongst the ones installed.\n",
    "### Analogous code snippet that diplays the list of packages is \n",
    "### pip list--outdated\n",
    "    try:\n",
    "        result = subprocess.run(['pip', 'list', '--outdated'], capture_output=True, text=True)\n",
    "        outdated_packages = result.stdout.strip().split('\\n')[2:]  # Skip the header lines\n",
    "        package_names = []\n",
    "\n",
    "        for package_info in outdated_packages:\n",
    "            # Use regex to extract package name (first word in the line)\n",
    "            match = re.match(r'^(\\S+)', package_info)\n",
    "            if match:\n",
    "                package_name = match.group(1)\n",
    "                package_names.append(package_name)\n",
    "        return package_names\n",
    "    # This is for error handling -> To note any error messages\n",
    "    except subprocess.CalledProcessError as e:\n",
    "        print(f\"Error: {e}\")\n",
    "        return []\n"
   ]
  },
  {
   "cell_type": "code",
   "execution_count": null,
   "id": "65a396f4",
   "metadata": {},
   "outputs": [],
   "source": [
    "### Driver Function\n",
    "outdated_packages = get_outdated_packages()\n",
    "if outdated_packages:\n",
    "    print(\"Packages to be updated:\")\n",
    "    print(outdated_packages)\n",
    "    for package in outdated_packages:\n",
    "        if (package !='pip'):\n",
    "            # Since pip cannot be upgraded using this structure, we are going to skip pip\n",
    "            try:\n",
    "                subprocess.run(['pip', 'install', '--upgrade', package], check=True)\n",
    "            except subprocess.CalledProcessError as e:\n",
    "                print(f\"Failed to upgrade {package}: {e}\")\n",
    "\n",
    "        else:\n",
    "            try:\n",
    "                 result = subprocess.run(['python', '-m', 'pip', 'install', '--upgrade', package], check=True)\n",
    "            except subprocess.CalledProcessError as e:\n",
    "                print(f\"Failed to upgrade {package}: {e}\")\n",
    "            #print ('To update, run: python.exe -m pip install --upgrade pip')\n",
    "\n",
    "else:\n",
    "    print(\"No outdated packages found.\")"
   ]
  },
  {
   "cell_type": "code",
   "execution_count": null,
   "id": "cc8f3129",
   "metadata": {},
   "outputs": [],
   "source": []
  }
 ],
 "metadata": {
  "kernelspec": {
   "display_name": "Python 3 (ipykernel)",
   "language": "python",
   "name": "python3"
  },
  "language_info": {
   "codemirror_mode": {
    "name": "ipython",
    "version": 3
   },
   "file_extension": ".py",
   "mimetype": "text/x-python",
   "name": "python",
   "nbconvert_exporter": "python",
   "pygments_lexer": "ipython3",
   "version": "3.12.3"
  }
 },
 "nbformat": 4,
 "nbformat_minor": 5
}
