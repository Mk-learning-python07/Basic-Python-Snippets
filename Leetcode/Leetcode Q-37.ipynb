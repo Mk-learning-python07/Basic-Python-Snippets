{
 "cells": [
  {
   "cell_type": "markdown",
   "id": "22f30066-59cf-418d-966f-08717d096b79",
   "metadata": {},
   "source": [
    "## Leet Code Question - 37. Sudoku Solver\n",
    "Difficulty - Hard <br>\n",
    "Write a program to solve a Sudoku puzzle by filling the empty cells.<br>\n",
    "A sudoku solution must satisfy all of the following rules: <br>\n",
    "\n",
    "    Each of the digits 1-9 must occur exactly once in each row.\n",
    "    Each of the digits 1-9 must occur exactly once in each column.\n",
    "    Each of the digits 1-9 must occur exactly once in each of the 9 3x3 sub-boxes of the grid.\n",
    "\n",
    "The '.' character indicates empty cells."
   ]
  },
  {
   "cell_type": "code",
   "execution_count": null,
   "id": "2000b7db-d4f8-4ed3-9b6c-18344d747b5e",
   "metadata": {},
   "outputs": [],
   "source": [
    "class Solution(object):\n",
    "    def is_valid(self,board, row, col, num):\n",
    "        ''' This function does the rule check for the numbers generated via backtracking through the below function'''\n",
    "        num = str(num)\n",
    "        # Check row\n",
    "        for i in range(9):\n",
    "            if board[row][i] == num:\n",
    "                return False\n",
    "        # Check column\n",
    "            if board[i][col] == num:\n",
    "                return False\n",
    "        # Check 3x3 box\n",
    "        box_row_start = (row // 3) * 3\n",
    "        box_col_start = (col // 3) * 3\n",
    "        for i in range(3):\n",
    "            for j in range(3):\n",
    "                if board[box_row_start + i][box_col_start + j] == num:\n",
    "                    return False\n",
    "        return True\n",
    "    def solveSudoku(self, board):\n",
    "        \"\"\"\n",
    "        This is the driver function which inputs the number combination via backtracking/recursion.\n",
    "        \"\"\"\n",
    "        for row in range(9):\n",
    "            for col in range(9):\n",
    "                if board[row][col] == '.':\n",
    "                    for num in range(1, 10):\n",
    "                        if self.is_valid(board, row, col, num):\n",
    "                            board[row][col] = str(num)\n",
    "                            if self.solveSudoku(board):\n",
    "                                return True\n",
    "                            board[row][col] = '.'  # Backtrack\n",
    "                    return False\n",
    "        return True  "
   ]
  }
 ],
 "metadata": {
  "kernelspec": {
   "display_name": "Python 3 (ipykernel)",
   "language": "python",
   "name": "python3"
  },
  "language_info": {
   "codemirror_mode": {
    "name": "ipython",
    "version": 3
   },
   "file_extension": ".py",
   "mimetype": "text/x-python",
   "name": "python",
   "nbconvert_exporter": "python",
   "pygments_lexer": "ipython3",
   "version": "3.12.3"
  }
 },
 "nbformat": 4,
 "nbformat_minor": 5
}
