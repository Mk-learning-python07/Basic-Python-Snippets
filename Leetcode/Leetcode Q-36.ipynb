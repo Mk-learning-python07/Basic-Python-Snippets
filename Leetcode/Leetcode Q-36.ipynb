{
 "cells": [
  {
   "cell_type": "markdown",
   "id": "33cab0d9-c4c6-4553-a9a5-ca341f68b12a",
   "metadata": {},
   "source": [
    "### Leet Code Question - 36. Valid Sudoku\n",
    "Difficulty - Medium\n",
    "Determine if a 9 x 9 Sudoku board is valid. Only the filled cells need to be validated according to the following rules:\n",
    "\n",
    "    Each row must contain the digits 1-9 without repetition.\n",
    "    Each column must contain the digits 1-9 without repetition.\n",
    "    Each of the nine 3 x 3 sub-boxes of the grid must contain the digits 1-9 without repetition.\n"
   ]
  },
  {
   "cell_type": "code",
   "execution_count": null,
   "id": "fbdb6e96-55fe-494c-9b47-b86017058c72",
   "metadata": {},
   "outputs": [],
   "source": [
    "class Solution:\n",
    "    def isValidSudoku(self, board: List[List[str]]) -> bool:\n",
    "        '''Do the rule check on the inputs'''\n",
    "        for i in range(9):\n",
    "            row = []\n",
    "            column = []\n",
    "            box = []\n",
    "            for j in range(9):\n",
    "                # Check rows\n",
    "                if board[i][j] != \".\":\n",
    "                    if board[i][j] in row:\n",
    "                        return False\n",
    "                    row.append(board[i][j])\n",
    "                \n",
    "                # Check columns\n",
    "                if board[j][i] != \".\":\n",
    "                    if board[j][i] in column:\n",
    "                        return False\n",
    "                    column.append(board[j][i])\n",
    "                \n",
    "                # Check 3x3 sub-grids\n",
    "                box_row = 3 * (i // 3) + j // 3\n",
    "                box_col = 3 * (i % 3) + j % 3\n",
    "                if board[box_row][box_col] != \".\":\n",
    "                    if board[box_row][box_col] in box:\n",
    "                        return False\n",
    "                    box.append(board[box_row][box_col])\n",
    "    \n",
    "        return True"
   ]
  }
 ],
 "metadata": {
  "kernelspec": {
   "display_name": "Python 3 (ipykernel)",
   "language": "python",
   "name": "python3"
  },
  "language_info": {
   "codemirror_mode": {
    "name": "ipython",
    "version": 3
   },
   "file_extension": ".py",
   "mimetype": "text/x-python",
   "name": "python",
   "nbconvert_exporter": "python",
   "pygments_lexer": "ipython3",
   "version": "3.12.3"
  }
 },
 "nbformat": 4,
 "nbformat_minor": 5
}
