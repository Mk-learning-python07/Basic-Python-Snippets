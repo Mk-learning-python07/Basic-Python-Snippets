pip install pandas numpy scipy scikit-learn seaborn matplotlib tensorflow
