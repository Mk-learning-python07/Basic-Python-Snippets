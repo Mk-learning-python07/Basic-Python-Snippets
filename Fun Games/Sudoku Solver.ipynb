{
 "cells": [
  {
   "cell_type": "markdown",
   "id": "eb57b02c-9d30-4427-a186-8f321d9c8b3a",
   "metadata": {},
   "source": [
    "<center> <h1> Sudoku Solver <br> </h1> </center>\n",
    "This notebook has a function written with a driver code to solve sudoku puzzles. The input is a tedious way of entering 9x9 Matrix row-wise with 0 entered for positions to be filled by the solver. The solver works based on recursion and uses a separate checker function so that the filled 9x9 grid follows the rules - Each column, each row, and each of the nine 3x3 subgrids (also called boxes) contain all of the digits exactly once.<br> \n",
    "<h3> Date Revised: July-8th 2024 </h3>\n",
    "<h3> Version: 1.1 </h3>\n",
    "<br>\n",
    "Version Log:<br>\n",
    "1.0 - Initial Commit to github<br>\n",
    "1.1 - Input Verification<br>"
   ]
  },
  {
   "cell_type": "code",
   "execution_count": 1,
   "id": "e19a1e6f-71f2-46a4-aeb5-04337064097b",
   "metadata": {},
   "outputs": [],
   "source": [
    "# Packages \n",
    "import numpy as np\n",
    "import datetime\n",
    "%load_ext memory_profiler"
   ]
  },
  {
   "cell_type": "code",
   "execution_count": 2,
   "id": "19c75b03-93b7-4218-95a4-2f42d16a1e9c",
   "metadata": {},
   "outputs": [],
   "source": [
    "def sudoku_input():\n",
    "    ''' Gets input of sudoku 9x9 Matrix style with inputs in a row format'''\n",
    "    R = 9\n",
    "    C = 9\n",
    "    grid = []\n",
    "    \n",
    "    print(\"Enter the Sudoku Row-wise (values should be between 0 and 9 inclusive):\")\n",
    "    for i in range(R):\n",
    "        row = []\n",
    "        for j in range(C):\n",
    "            while True:\n",
    "                try:\n",
    "                    value = int(input(f\"Enter value for row {i+1}, column {j+1}: \"))\n",
    "                    if 0 <= value <= 9:\n",
    "                        break  # Valid input, exit the loop\n",
    "                    else:\n",
    "                        print(\"Value must be between 0 and 9 inclusive. Please try again.\")\n",
    "                except ValueError:\n",
    "                    print(\"Invalid input. Please enter a number between 0 and 9.\")\n",
    "            \n",
    "            row.append(value)\n",
    "        grid.append(row)\n",
    "    # Print the matrix\n",
    "    print(\"\\nThe Sudoku Matrix:\")\n",
    "    print(np.matrix(grid))\n",
    "    # Check if everything is not zero\n",
    "    flag = 0\n",
    "    if all(value == 0 for row in grid for value in row):\n",
    "        print(\"All cells in the Sudoku grid are filled with zero\")\n",
    "        flag = 1    \n",
    "    return grid, flag\n"
   ]
  },
  {
   "cell_type": "code",
   "execution_count": 3,
   "id": "322eeb02-ab78-4c0c-8fea-37bf6148a523",
   "metadata": {},
   "outputs": [],
   "source": [
    "def possible_combination_checker(row,col,num):\n",
    "    ''' Checks the number entered in the position according to the rules rules simultaneously'''\n",
    "    global grid\n",
    "    # Checking if the number occurs in the row once\n",
    "    for i in range(0,9):\n",
    "        if grid[row][i] == num:\n",
    "            return False\n",
    "    # Checking if the number occurs in the column once\n",
    "        if grid[i][col] == num:\n",
    "            return False\n",
    "    # Checking if the number occurs in the box once\n",
    "    l = (row//3) * 3# using Floor division to get an integer value\n",
    "    m = (col//3) * 3\n",
    "    \n",
    "    for i in range(0,3):\n",
    "        for j in range(0,3):\n",
    "            if(grid[l+i][m+j]==num):\n",
    "                return False\n",
    "    return True"
   ]
  },
  {
   "cell_type": "code",
   "execution_count": 4,
   "id": "7be935d4-e16e-4954-b761-2ae01f94ae8e",
   "metadata": {},
   "outputs": [],
   "source": [
    "def solve_sudoku():\n",
    "    ''' Fills the number 1-9 in the position and calls the checker to verify the input'''\n",
    "    global grid\n",
    "    for row in range(0,9):\n",
    "        for col in range(0,9):\n",
    "            if grid[row][col] == 0:\n",
    "                for num in range(1,10):\n",
    "                    if possible_combination_checker(row,col,num):\n",
    "                        grid[row][col] = num\n",
    "                        solve_sudoku()\n",
    "                        grid[row][col] = 0\n",
    "                return \n",
    "    print(np.matrix(grid))"
   ]
  },
  {
   "cell_type": "code",
   "execution_count": 5,
   "id": "5fb61a31-fc55-48a7-8123-d2c372758735",
   "metadata": {},
   "outputs": [
    {
     "name": "stdout",
     "output_type": "stream",
     "text": [
      "Enter the Sudoku Row-wise (values should be between 0 and 9 inclusive):\n"
     ]
    },
    {
     "name": "stdin",
     "output_type": "stream",
     "text": [
      "Enter value for row 1, column 1:  0\n",
      "Enter value for row 1, column 2:  0\n",
      "Enter value for row 1, column 3:  0\n",
      "Enter value for row 1, column 4:  2\n",
      "Enter value for row 1, column 5:  8\n",
      "Enter value for row 1, column 6:  0\n",
      "Enter value for row 1, column 7:  0\n",
      "Enter value for row 1, column 8:  0\n",
      "Enter value for row 1, column 9:  0\n",
      "Enter value for row 2, column 1:  06\n",
      "Enter value for row 2, column 2:  0\n",
      "Enter value for row 2, column 3:  0\n",
      "Enter value for row 2, column 4:  0\n",
      "Enter value for row 2, column 5:  0\n",
      "Enter value for row 2, column 6:  0\n",
      "Enter value for row 2, column 7:  0\n",
      "Enter value for row 2, column 8:  0\n",
      "Enter value for row 2, column 9:  0\n",
      "Enter value for row 3, column 1:  0\n",
      "Enter value for row 3, column 2:  3\n",
      "Enter value for row 3, column 3:  9\n",
      "Enter value for row 3, column 4:  4\n",
      "Enter value for row 3, column 5:  6\n",
      "Enter value for row 3, column 6:  0\n",
      "Enter value for row 3, column 7:  2\n",
      "Enter value for row 3, column 8:  1\n",
      "Enter value for row 3, column 9:  0\n",
      "Enter value for row 4, column 1:  0\n",
      "Enter value for row 4, column 2:  5\n",
      "Enter value for row 4, column 3:  0\n",
      "Enter value for row 4, column 4:  0\n",
      "Enter value for row 4, column 5:  9\n",
      "Enter value for row 4, column 6:  0\n",
      "Enter value for row 4, column 7:  0\n",
      "Enter value for row 4, column 8:  0\n",
      "Enter value for row 4, column 9:  7\n",
      "Enter value for row 5, column 1:  0\n",
      "Enter value for row 5, column 2:  9\n",
      "Enter value for row 5, column 3:  0\n",
      "Enter value for row 5, column 4:  7\n",
      "Enter value for row 5, column 5:  5\n",
      "Enter value for row 5, column 6:  6\n",
      "Enter value for row 5, column 7:  0\n",
      "Enter value for row 5, column 8:  3\n",
      "Enter value for row 5, column 9:  0\n",
      "Enter value for row 6, column 1:  3\n",
      "Enter value for row 6, column 2:  0\n",
      "Enter value for row 6, column 3:  0\n",
      "Enter value for row 6, column 4:  0\n",
      "Enter value for row 6, column 5:  2\n",
      "Enter value for row 6, column 6:  0\n",
      "Enter value for row 6, column 7:  0\n",
      "Enter value for row 6, column 8:  5\n",
      "Enter value for row 6, column 9:  0\n",
      "Enter value for row 7, column 1:  0\n",
      "Enter value for row 7, column 2:  4\n",
      "Enter value for row 7, column 3:  7\n",
      "Enter value for row 7, column 4:  0\n",
      "Enter value for row 7, column 5:  1\n",
      "Enter value for row 7, column 6:  5\n",
      "Enter value for row 7, column 7:  8\n",
      "Enter value for row 7, column 8:  9\n",
      "Enter value for row 7, column 9:  0\n",
      "Enter value for row 8, column 1:  0\n",
      "Enter value for row 8, column 2:  0\n",
      "Enter value for row 8, column 3:  0\n",
      "Enter value for row 8, column 4:  0\n",
      "Enter value for row 8, column 5:  0\n",
      "Enter value for row 8, column 6:  0\n",
      "Enter value for row 8, column 7:  0\n",
      "Enter value for row 8, column 8:  0\n",
      "Enter value for row 8, column 9:  5\n",
      "Enter value for row 9, column 1:  0\n",
      "Enter value for row 9, column 2:  0\n",
      "Enter value for row 9, column 3:  0\n",
      "Enter value for row 9, column 4:  0\n",
      "Enter value for row 9, column 5:  7\n",
      "Enter value for row 9, column 6:  8\n",
      "Enter value for row 9, column 7:  0\n",
      "Enter value for row 9, column 8:  0\n",
      "Enter value for row 9, column 9:  0\n"
     ]
    },
    {
     "name": "stdout",
     "output_type": "stream",
     "text": [
      "\n",
      "The Sudoku Matrix:\n",
      "[[0 0 0 2 8 0 0 0 0]\n",
      " [6 0 0 0 0 0 0 0 0]\n",
      " [0 3 9 4 6 0 2 1 0]\n",
      " [0 5 0 0 9 0 0 0 7]\n",
      " [0 9 0 7 5 6 0 3 0]\n",
      " [3 0 0 0 2 0 0 5 0]\n",
      " [0 4 7 0 1 5 8 9 0]\n",
      " [0 0 0 0 0 0 0 0 5]\n",
      " [0 0 0 0 7 8 0 0 0]]\n"
     ]
    }
   ],
   "source": [
    "# Call the functions to solve the sudoku\n",
    "grid, flag = sudoku_input()"
   ]
  },
  {
   "cell_type": "code",
   "execution_count": 6,
   "id": "dabf2041-7893-4a5b-bbfd-df5bd3c5336c",
   "metadata": {},
   "outputs": [
    {
     "name": "stdout",
     "output_type": "stream",
     "text": [
      "[[7 1 4 2 8 9 5 6 3]\n",
      " [6 2 8 5 3 1 7 4 9]\n",
      " [5 3 9 4 6 7 2 1 8]\n",
      " [4 5 2 1 9 3 6 8 7]\n",
      " [8 9 1 7 5 6 4 3 2]\n",
      " [3 7 6 8 2 4 9 5 1]\n",
      " [2 4 7 3 1 5 8 9 6]\n",
      " [9 8 3 6 4 2 1 7 5]\n",
      " [1 6 5 9 7 8 3 2 4]]\n",
      "Sudoku solved in: 0.04 seconds\n"
     ]
    }
   ],
   "source": [
    "start_time = datetime.datetime.now()\n",
    "if flag != 1:\n",
    "    solve_sudoku()\n",
    "    end_time = datetime.datetime.now()\n",
    "    total_time = (end_time-start_time).total_seconds()\n",
    "    print(f\"Sudoku solved in: {total_time:.2f} seconds\")\n",
    "else:\n",
    "    print(\"Sudoku Solver Terminated as inputs are trivial\")"
   ]
  },
  {
   "cell_type": "code",
   "execution_count": 8,
   "id": "bcc0c701-f0b3-4bf6-adb1-6c2ab1a63402",
   "metadata": {},
   "outputs": [
    {
     "name": "stdout",
     "output_type": "stream",
     "text": [
      "[[7 1 4 2 8 9 5 6 3]\n",
      " [6 2 8 5 3 1 7 4 9]\n",
      " [5 3 9 4 6 7 2 1 8]\n",
      " [4 5 2 1 9 3 6 8 7]\n",
      " [8 9 1 7 5 6 4 3 2]\n",
      " [3 7 6 8 2 4 9 5 1]\n",
      " [2 4 7 3 1 5 8 9 6]\n",
      " [9 8 3 6 4 2 1 7 5]\n",
      " [1 6 5 9 7 8 3 2 4]]\n",
      "peak memory: 81.75 MiB, increment: 0.31 MiB\n"
     ]
    }
   ],
   "source": [
    "# Memory Allocation\n",
    "if (flag!= 1): \n",
    "    %memit solve_sudoku()\n"
   ]
  }
 ],
 "metadata": {
  "kernelspec": {
   "display_name": "Python 3 (ipykernel)",
   "language": "python",
   "name": "python3"
  },
  "language_info": {
   "codemirror_mode": {
    "name": "ipython",
    "version": 3
   },
   "file_extension": ".py",
   "mimetype": "text/x-python",
   "name": "python",
   "nbconvert_exporter": "python",
   "pygments_lexer": "ipython3",
   "version": "3.12.3"
  }
 },
 "nbformat": 4,
 "nbformat_minor": 5
}
